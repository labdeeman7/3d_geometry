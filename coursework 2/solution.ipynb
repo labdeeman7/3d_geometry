{
 "cells": [
  {
   "cell_type": "code",
   "execution_count": 46,
   "metadata": {},
   "outputs": [
    {
     "name": "stdout",
     "output_type": "stream",
     "text": [
      "found resources\n",
      "found resources\n",
      "found resources\n",
      "found more meshes\n"
     ]
    }
   ],
   "source": [
    "import sys,os\n",
    "\n",
    "DEMO_PATH_CURVATURE = 'demo-meshes/demo-meshes/curvatures'\n",
    "DEMO_PATH_SMOOTHING = 'demo-meshes/demo-meshes/smoothing'\n",
    "DEMO_PATH_DECOMPOSITION = 'demo-meshes/demo-meshes/decomposition'\n",
    "EXAMPLE_NONTEXTURE_PATH = 'example_meshes_nontexture/example_meshes'\n",
    "LIB_PATH = '../python_lib'\n",
    "\n",
    "if not os.path.exists(DEMO_PATH_CURVATURE):\n",
    "    print( 'cannot find \\\\DEMO_PATH_CURVATURE, please update DEMO_PATH_CURVATURE')\n",
    "    exit(1)\n",
    "else:\n",
    "    print('found resources')\n",
    "    \n",
    "if not os.path.exists(DEMO_PATH_SMOOTHING):\n",
    "    print( 'cannot find \\\\DEMO_PATH_SMOOTHING, please update DEMO_PATH_SMOOTHING')\n",
    "    exit(1)\n",
    "else:\n",
    "    print('found resources')\n",
    "\n",
    "if not os.path.exists(DEMO_PATH_SMOOTHING):\n",
    "    print( 'cannot find \\\\DEMO_PATH_SMOOTHING, please update DEMO_PATH_SMOOTHING')\n",
    "    exit(1)\n",
    "else:\n",
    "    print('found resources')\n",
    "    \n",
    "if not os.path.exists(EXAMPLE_NONTEXTURE_PATH):\n",
    "    print( 'cannot find \\\\EXAMPLE_NONTEXTURE, please update DEMO_PATH')\n",
    "    exit(1)\n",
    "else:\n",
    "    print('found more meshes')\n",
    "\n",
    "# append path \n",
    "sys.path.append(LIB_PATH) \n",
    "from geo_tools import rd_helper\n",
    "\n",
    "import pyglet\n",
    "pyglet.options['shadow_window'] = False\n",
    "\n",
    "import pyrender\n",
    "import numpy as np\n",
    "import trimesh\n",
    "\n",
    "import matplotlib\n",
    "import matplotlib.pyplot as plt\n",
    "import matplotlib.cm as cm\n",
    "from scipy.spatial import KDTree\n",
    "from scipy.spatial import cKDTree\n",
    "import math\n",
    "from math import cos, sin\n",
    "from scipy.spatial.transform import Rotation\n",
    "from sympy import *\n",
    "from scipy.sparse.linalg import eigs, eigsh, cg"
   ]
  },
  {
   "cell_type": "markdown",
   "metadata": {},
   "source": [
    "### Some handy functions for display"
   ]
  },
  {
   "cell_type": "code",
   "execution_count": 3,
   "metadata": {},
   "outputs": [],
   "source": [
    "def scene_factory(render_list):\n",
    "    \n",
    "    scene = pyrender.Scene(ambient_light=0.5*np.array([1.0, 1.0, 1.0, 1.0]))\n",
    "    \n",
    "    for m in render_list:\n",
    "        scene.add(m)\n",
    "    \n",
    "    return scene\n",
    "\n",
    "def run_gui(render_list, **kargs ):\n",
    "    scene = scene_factory(render_list)\n",
    "    # call GUI\n",
    "    v=pyrender.Viewer(scene, use_raymond_lighting=True, **kargs)\n",
    "    # free resources\n",
    "    del v \n",
    "    return None\n",
    "\n",
    "def add_colour_to_mesh(mesh, colour_pallete):\n",
    "    mesh.visual.vertex_colors = np.tile(colour_pallete, (mesh.vertices.shape[0],1))\n",
    "    return mesh\n",
    "\n",
    "def normal_shading(mesh): \n",
    "    mesh.visual.vertex_colors = mesh.vertex_normals * 255\n",
    "    return mesh\n",
    "\n",
    "def curvature_shading(mesh, colours): \n",
    "    mesh.visual.vertex_colors = colours\n",
    "    return mesh"
   ]
  },
  {
   "cell_type": "markdown",
   "metadata": {},
   "source": [
    "## Get laplacian operator"
   ]
  },
  {
   "cell_type": "markdown",
   "metadata": {},
   "source": [
    "### Find the one ring neigbours of a vertice"
   ]
  },
  {
   "cell_type": "markdown",
   "metadata": {},
   "source": [
    "#### Import mesh"
   ]
  },
  {
   "cell_type": "code",
   "execution_count": 6,
   "metadata": {},
   "outputs": [],
   "source": [
    "# m1_fp = os.path.join(DEMO_PATH_CURVATURE,'lilium.obj')\n",
    "m1_fp = os.path.join('bumpy-cube-small.obj')\n",
    "m2_fp = os.path.join(DEMO_PATH_CURVATURE,'plane.obj')\n",
    "m3_fp = os.path.join(DEMO_PATH_CURVATURE,'lilium.obj')\n",
    "\n",
    "\n",
    "assert os.path.exists(m1_fp), 'cannot found:'+m1_fp \n",
    "assert os.path.exists(m2_fp), 'cannot found:'+m2_fp \n",
    "assert os.path.exists(m3_fp), 'cannot found:'+m3-fp \n",
    "\n",
    "M1 = trimesh.load(m1_fp) \n",
    "M2 = trimesh.load(m2_fp) \n",
    "M3 = trimesh.load(m3_fp)"
   ]
  },
  {
   "cell_type": "markdown",
   "metadata": {},
   "source": [
    "## access mesh properties"
   ]
  },
  {
   "cell_type": "code",
   "execution_count": 7,
   "metadata": {},
   "outputs": [
    {
     "name": "stdout",
     "output_type": "stream",
     "text": [
      "M1 vertices, shape=(1502, 3), #=1502\n",
      "M1 faces, shape=(3000, 3), #=3000\n",
      "M1 edges, shape=(9000, 2), #=9000\n",
      "M1 face_normals, shape=(3000, 3), #=3000\n",
      "M1 vertex_normals, shape=(1502, 3), #=1502\n",
      "M1 vertex_neighbors, shape=(1502,), #=1502\n"
     ]
    }
   ],
   "source": [
    "props= ['vertices', 'faces', 'edges', 'face_normals' , 'vertex_normals', 'vertex_neighbors']\n",
    "\n",
    "for p in props:\n",
    "    print('M1 {:}, shape={:}, #={:}'.format(p,str(getattr(M1,p).shape),getattr(M1,p).shape[0]))\n",
    "    "
   ]
  },
  {
   "cell_type": "markdown",
   "metadata": {},
   "source": [
    "## Get laplace beltrami"
   ]
  },
  {
   "cell_type": "code",
   "execution_count": 4,
   "metadata": {},
   "outputs": [],
   "source": [
    "def get_uniform_discretization(mesh):\n",
    "    vertice_number = len(mesh.vertices)\n",
    "    laplace_beltrami = 1 * np.eye(vertice_number)\n",
    "    for i in range(vertice_number):\n",
    "        neigbours =  mesh.vertex_neighbors[i]\n",
    "        valence = len(neigbours)\n",
    "        laplace_beltrami[i, neigbours] = -1/valence\n",
    "    return laplace_beltrami"
   ]
  },
  {
   "cell_type": "markdown",
   "metadata": {},
   "source": [
    "## Get $\\triangle{x}$ "
   ]
  },
  {
   "cell_type": "code",
   "execution_count": 5,
   "metadata": {},
   "outputs": [],
   "source": [
    "def get_del_x(mesh):\n",
    "    laplacian = get_uniform_discretization(mesh)\n",
    "    del_x = laplacian @ mesh.vertices\n",
    "    return del_x"
   ]
  },
  {
   "cell_type": "code",
   "execution_count": 13,
   "metadata": {},
   "outputs": [],
   "source": [
    "del_x = get_del_x(M1)"
   ]
  },
  {
   "cell_type": "markdown",
   "metadata": {},
   "source": [
    "### Get mean curvature"
   ]
  },
  {
   "cell_type": "code",
   "execution_count": 6,
   "metadata": {},
   "outputs": [],
   "source": [
    "def get_mean_curvature(del_x, mesh):\n",
    "    H_abs = np.linalg.norm(del_x, axis=1)/2\n",
    "    H_n = del_x/-2\n",
    "#     print(H_n)\n",
    "    n = mesh.vertex_normals\n",
    "    dot_prod_Hn_n = np.sum(H_n*n, axis=1)\n",
    "    H_sign = np.sign(dot_prod_Hn_n)\n",
    "    H = H_sign * H_abs\n",
    "    return H"
   ]
  },
  {
   "cell_type": "code",
   "execution_count": 14,
   "metadata": {},
   "outputs": [
    {
     "name": "stdout",
     "output_type": "stream",
     "text": [
      "[[ 0.00648417  0.078867    0.02683483]\n",
      " [-0.01050521 -0.04780564 -0.01618921]\n",
      " [-0.0384172   0.0113338   0.0880604 ]\n",
      " ...\n",
      " [-0.01970643 -0.00592264 -0.04967143]\n",
      " [-0.0017537  -0.0352829   0.0082849 ]\n",
      " [ 0.0017632   0.0012126   0.0042816 ]]\n"
     ]
    }
   ],
   "source": [
    "H = get_mean_curvature(del_x, M1)"
   ]
  },
  {
   "cell_type": "markdown",
   "metadata": {},
   "source": [
    "## visualize mean curvature"
   ]
  },
  {
   "cell_type": "code",
   "execution_count": 7,
   "metadata": {},
   "outputs": [],
   "source": [
    "def get_vertice_colours_from_list(list_values , cmap=cm.hot):\n",
    "    minima = min(list_values)\n",
    "#     print(minima)\n",
    "    \n",
    "    maxima = max(list_values)\n",
    "#     print(maxima)\n",
    "    \n",
    "    norm = matplotlib.colors.Normalize(vmin=minima, vmax=maxima)\n",
    "    mapper = cm.ScalarMappable(norm=norm, cmap=cmap)\n",
    "    \n",
    "    colours =  mapper.to_rgba(list_values)[:,[0,1,2]] * 255\n",
    "    return colours"
   ]
  },
  {
   "cell_type": "code",
   "execution_count": 16,
   "metadata": {},
   "outputs": [
    {
     "name": "stdout",
     "output_type": "stream",
     "text": [
      "-0.2503869328693073\n",
      "0.15603051317564193\n"
     ]
    }
   ],
   "source": [
    "colours_mean_curvature =  get_vertice_colours_from_list(H,cm.hot)"
   ]
  },
  {
   "cell_type": "code",
   "execution_count": 17,
   "metadata": {},
   "outputs": [],
   "source": [
    "curvature_shading(M1,colours_mean_curvature)\n",
    "m1_mesh_rd = pyrender.Mesh.from_trimesh(M1)\n",
    "run_gui([m1_mesh_rd])"
   ]
  },
  {
   "cell_type": "code",
   "execution_count": 344,
   "metadata": {},
   "outputs": [],
   "source": [
    "# angle_defect = M1.vertex_defects[1000]\n",
    "# print(angle_defect)\n",
    "        \n",
    "# #vertex_faces : faces which a vertex belongs to -1 for padding,remove them\n",
    "# faces_vertex_belongs_to = M1.vertex_faces[1000][M1.vertex_faces[1000] != -1]\n",
    "# print(faces_vertex_belongs_to)\n",
    "\n",
    "# #Area of faces \n",
    "# one_ring_area = np.sum(M1.area_faces[faces_vertex_belongs_to])\n",
    "# print(one_ring_area)\n",
    "\n",
    "# barycentric_area = one_ring_area/3\n",
    "\n",
    "# curv_gauss = angle_defect/barycentric_area\n",
    "# print(curv_gauss)"
   ]
  },
  {
   "cell_type": "markdown",
   "metadata": {},
   "source": [
    "## Gauss Curvature"
   ]
  },
  {
   "cell_type": "code",
   "execution_count": 18,
   "metadata": {},
   "outputs": [],
   "source": [
    "def get_gauss_curvature (mesh):\n",
    "    #amount of vertices\n",
    "    vertice_number = len(mesh.vertices)\n",
    "    \n",
    "    #for each vertex,\n",
    "    gauss_curvature = np.zeros(vertice_number)\n",
    "    for i in range(vertice_number):\n",
    "        # vertex_defects : 2pi - sum of angles of a vertex\n",
    "        angle_defect = mesh.vertex_defects[i]\n",
    "        \n",
    "        #vertex_faces : faces which a vertex belongs to -1 for padding,remove them\n",
    "        faces_vertex_belongs_to = mesh.vertex_faces[i][mesh.vertex_faces[i] != -1]\n",
    "        \n",
    "        #Area of faces \n",
    "        one_ring_area = np.sum(mesh.area_faces[faces_vertex_belongs_to])\n",
    "        \n",
    "        barycentric_area = one_ring_area/3\n",
    "        \n",
    "        gauss_curvature[i] = angle_defect/barycentric_area\n",
    "    return gauss_curvature    "
   ]
  },
  {
   "cell_type": "code",
   "execution_count": 19,
   "metadata": {},
   "outputs": [],
   "source": [
    "M1_gauss_curvature = get_gauss_curvature(M1)"
   ]
  },
  {
   "cell_type": "markdown",
   "metadata": {},
   "source": [
    "## visualize gauss curvature"
   ]
  },
  {
   "cell_type": "code",
   "execution_count": 20,
   "metadata": {},
   "outputs": [
    {
     "name": "stdout",
     "output_type": "stream",
     "text": [
      "-1.6527433074218163\n",
      "2.7309242726060217\n"
     ]
    }
   ],
   "source": [
    "colours_gauss_curvature =  get_vertice_colours_from_list(M1_gauss_curvature)"
   ]
  },
  {
   "cell_type": "code",
   "execution_count": 21,
   "metadata": {},
   "outputs": [],
   "source": [
    "curvature_shading(M1,colours_gauss_curvature)\n",
    "m1_mesh_rd = pyrender.Mesh.from_trimesh(M1)\n",
    "run_gui([m1_mesh_rd])"
   ]
  },
  {
   "cell_type": "markdown",
   "metadata": {},
   "source": [
    "## Question 2: cotan"
   ]
  },
  {
   "cell_type": "code",
   "execution_count": 8,
   "metadata": {},
   "outputs": [],
   "source": [
    "def get_barycentric_area(mesh, vertex):\n",
    "    \n",
    "    #vertex_faces : faces which a vertex belongs to -1 for padding,remove them\n",
    "    faces_vertex_belongs_to = mesh.vertex_faces[vertex][mesh.vertex_faces[vertex] != -1]\n",
    "\n",
    "    #Area of faces \n",
    "    one_ring_area = np.sum(mesh.area_faces[faces_vertex_belongs_to])\n",
    "#     print(\"one_ring_area\", one_ring_area )\n",
    "\n",
    "    barycentric_area = one_ring_area/3\n",
    "#     print(\"barycentric_area\", barycentric_area)\n",
    "    \n",
    "    return barycentric_area"
   ]
  },
  {
   "cell_type": "code",
   "execution_count": 9,
   "metadata": {},
   "outputs": [],
   "source": [
    "def get_alpha_beta(mesh, vertex, neigbour_vertex):\n",
    "    faces_vertex_belongs_to = mesh.vertex_faces[vertex][mesh.vertex_faces[vertex] != -1]\n",
    "    faces_neighbour_belongs_to = mesh.vertex_faces[neigbour_vertex][mesh.vertex_faces[neigbour_vertex] != -1]\n",
    "#     print(\"get_alpha_beta.................................\")\n",
    "#     print(\"faces_vertex_belongs_to\",faces_vertex_belongs_to)\n",
    "#     print(\"faces_neighbour_belongs_to\", faces_neighbour_belongs_to)\n",
    "    \n",
    "    shared_faces =  faces_vertex_belongs_to[np.isin(faces_vertex_belongs_to,faces_neighbour_belongs_to )]  #2 values\n",
    "#     print(\"shared_faces\", shared_faces)\n",
    "    \n",
    "    alpha = 0\n",
    "    beta = 0\n",
    "    if (len(shared_faces) == 1):\n",
    "        face_vertices = mesh.faces[shared_faces]\n",
    "#         print(\"face_vertices\", face_vertices)\n",
    "        angles_of_face =  mesh.face_angles[shared_faces]\n",
    "#         print(\"angles_of_face\",angles_of_face)\n",
    "        alpha_mask =  np.isin(face_vertices,[vertex,neigbour_vertex])\n",
    "#         print(\"alpha_mask\", alpha_mask)\n",
    "        alpha = angles_of_face[~alpha_mask][0]\n",
    "#         print(\"alpha\")\n",
    "        \n",
    "    else:\n",
    "        angles_of_shared_faces =  mesh.face_angles[shared_faces] #2x3 size\n",
    "#         print(\"angles_of_shared_faces\",angles_of_shared_faces)\n",
    "\n",
    "        shared_faces_vertices = mesh.faces[shared_faces] #2x3 size\n",
    "#         print(\"shared_faces_vertices\",shared_faces_vertices)\n",
    "\n",
    "        alpha = angles_of_shared_faces[0][~np.isin(shared_faces_vertices[0],shared_faces_vertices[1])][0]\n",
    "        beta = angles_of_shared_faces[1][~np.isin(shared_faces_vertices[1],shared_faces_vertices[0])][0] \n",
    "        \n",
    "    \n",
    "    return [alpha,beta]"
   ]
  },
  {
   "cell_type": "code",
   "execution_count": 12,
   "metadata": {},
   "outputs": [],
   "source": [
    "def get_cot_sum_vertex_difference(mesh, vertex, alpha_beta, neighbor_index):\n",
    "#     print(\"alpha_beta\", alpha_beta)\n",
    "#     print(\"get_cot_sum_vertex_difference....................................\")\n",
    "    cot_val = 0\n",
    "    if alpha_beta[1] == 0:\n",
    "        cot_val = cot(alpha_beta[0])\n",
    "#         print(\"in 1\")\n",
    "    else:\n",
    "#         print(\"in 2\")\n",
    "        cot_val = cot(alpha_beta[0]) + cot(alpha_beta[1])\n",
    "    \n",
    "    if cot_val == zoo:\n",
    "        cot_val = 0\n",
    "#     print(\"cot_val\", cot_val)\n",
    "    \n",
    "    #fvi-fv\n",
    "    vertex_difference = mesh.vertices[neighbor_index] - mesh.vertices[vertex]\n",
    "#     print(\"vertex_difference\", vertex_difference)\n",
    "    cot_sum_vertex_difference = cot_val * vertex_difference\n",
    "#     print(\"cot_sum_vertex_difference\", cot_sum_vertex_difference)\n",
    "    return cot_sum_vertex_difference\n",
    "    "
   ]
  },
  {
   "cell_type": "code",
   "execution_count": 13,
   "metadata": {},
   "outputs": [],
   "source": [
    "def get_cotan_discretization(mesh):\n",
    "#     print(\"get_cotan_discretization..........................................\")\n",
    "    vertice_number = len(mesh.vertices)\n",
    "    cotan_discretization = np.zeros([vertice_number,3])\n",
    "    for vertex in range(vertice_number):\n",
    "        one_ring_neighbours = mesh.vertex_neighbors[vertex]\n",
    "#         print(\"one_ring_neighbours\",one_ring_neighbours)\n",
    "        len_neighbors = len(one_ring_neighbours)\n",
    "        area = get_barycentric_area(mesh,vertex)\n",
    "        \n",
    "        # calculate alpha and beta\n",
    "        sum_of_cotangents = 0\n",
    "        for j in range(len_neighbors):\n",
    "            neighbor_index = one_ring_neighbours[j]\n",
    "#             print(\"vertex\",vertex)\n",
    "#             print(\"neighbor_index\",neighbor_index)\n",
    "            alpha_beta = get_alpha_beta(mesh,vertex,neighbor_index)\n",
    "#             print(\"alpha_beta\",alpha_beta)\n",
    "#             print(\"vertice, neigbour\", [vertex,neighbor_index]) \n",
    "            cot_sum_vertex_difference = get_cot_sum_vertex_difference(mesh, vertex, alpha_beta, neighbor_index)\n",
    "            sum_of_cotangents += cot_sum_vertex_difference \n",
    "        \n",
    "#         print(\"sum_of_cotangents\",sum_of_cotangents)\n",
    "#         print(\"area\", area)\n",
    "        \n",
    "        cotan_discretization[vertex,:] =  sum_of_cotangents/(2 * area)\n",
    "        \n",
    "    return cotan_discretization"
   ]
  },
  {
   "cell_type": "code",
   "execution_count": 26,
   "metadata": {},
   "outputs": [],
   "source": [
    "del_f = get_cotan_discretization(M1)"
   ]
  },
  {
   "cell_type": "code",
   "execution_count": 80,
   "metadata": {},
   "outputs": [
    {
     "name": "stdout",
     "output_type": "stream",
     "text": [
      "[[ 0.00365804  0.0636897  -0.23324129]\n",
      " [ 0.00139986 -0.06704217  0.21713489]\n",
      " [ 0.394377   -0.52606804  0.22558757]\n",
      " ...\n",
      " [ 0.01162711  0.05383023 -0.00257478]\n",
      " [ 0.13254474  0.00065782 -0.04827174]\n",
      " [ 0.26465269 -0.59357527 -0.45690909]]\n"
     ]
    }
   ],
   "source": [
    "H_cotan = get_mean_curvature(del_f, M1)"
   ]
  },
  {
   "cell_type": "markdown",
   "metadata": {},
   "source": [
    "## visualize mean curvature"
   ]
  },
  {
   "cell_type": "code",
   "execution_count": 81,
   "metadata": {},
   "outputs": [
    {
     "name": "stdout",
     "output_type": "stream",
     "text": [
      "-0.6990100803196037\n",
      "1.979070175532214\n"
     ]
    }
   ],
   "source": [
    "colours_mean_curvature =  get_vertice_colours_from_list(H_cotan,cm.hot)"
   ]
  },
  {
   "cell_type": "code",
   "execution_count": 83,
   "metadata": {},
   "outputs": [],
   "source": [
    "curvature_shading(M1,colours_mean_curvature)\n",
    "m1_mesh_rd = pyrender.Mesh.from_trimesh(M1)\n",
    "run_gui([m1_mesh_rd])\n",
    "\n",
    "# curvature_shading(M1,colours_mean_curvature)\n",
    "# m2_mesh_rd = pyrender.Mesh.from_trimesh(M2)\n",
    "# run_gui([m2_mesh_rd])"
   ]
  },
  {
   "cell_type": "markdown",
   "metadata": {},
   "source": [
    "## Q3 Spectral analysis"
   ]
  },
  {
   "cell_type": "code",
   "execution_count": 27,
   "metadata": {},
   "outputs": [],
   "source": [
    "m1_fp = os.path.join('bumpy-cube-small.obj')\n",
    "m2_fp = os.path.join(DEMO_PATH_CURVATURE,'lilium.obj')\n",
    "m3_fp = os.path.join(DEMO_PATH_CURVATURE,'plane.obj')\n",
    "\n",
    "assert os.path.exists(m1_fp), 'cannot found:'+m1_fp \n",
    "assert os.path.exists(m2_fp), 'cannot found:'+m2_fp \n",
    "assert os.path.exists(m3_fp), 'cannot found:'+m3-fp \n",
    "\n",
    "M1 = trimesh.load(m1_fp) \n",
    "M2 = trimesh.load(m2_fp) \n",
    "M3 = trimesh.load(m3_fp)"
   ]
  },
  {
   "cell_type": "code",
   "execution_count": 14,
   "metadata": {},
   "outputs": [],
   "source": [
    "def get_mass_matrix(mesh):\n",
    "    vertice_number = len(mesh.vertices)\n",
    "    mass_matrix = np.zeros([vertice_number,vertice_number])\n",
    "    mass_matrix_diag = np.zeros(vertice_number)\n",
    "    for vertex in range(vertice_number):\n",
    "        area = get_barycentric_area(mesh, vertex)\n",
    "        mass_matrix[vertex,vertex] = area\n",
    "        mass_matrix_diag[vertex] = area\n",
    "    return [mass_matrix, mass_matrix_diag]"
   ]
  },
  {
   "cell_type": "code",
   "execution_count": 15,
   "metadata": {},
   "outputs": [],
   "source": [
    "def get_c_value(mesh, vertex, neighbor_index, alpha_beta):\n",
    "    c_value = 0\n",
    "    if alpha_beta[1] == 0:\n",
    "        c_value = cot(alpha_beta[0])/2\n",
    "    else:\n",
    "        c_value = (cot(alpha_beta[0]) + cot(alpha_beta[1]))/2\n",
    "    if c_value == zoo:\n",
    "        c_value = 0\n",
    "    return c_value"
   ]
  },
  {
   "cell_type": "code",
   "execution_count": 16,
   "metadata": {},
   "outputs": [],
   "source": [
    "def get_c_matrix(mesh):\n",
    "    vertice_number = len(mesh.vertices)\n",
    "    c_matrix = np.zeros([vertice_number,vertice_number])\n",
    "    for vertex in range(vertice_number):\n",
    "        one_ring_neighbours = mesh.vertex_neighbors[vertex]\n",
    "        len_neighbors = len(one_ring_neighbours)\n",
    "        \n",
    "        sum_of_c_values = 0\n",
    "        for j in range(len_neighbors):\n",
    "            neighbor_index = one_ring_neighbours[j]\n",
    "#             print(\"vertex\",vertex)\n",
    "#             print(\"neighbor_index\",neighbor_index)\n",
    "            alpha_beta = get_alpha_beta(mesh,vertex,neighbor_index)\n",
    "            c_value = get_c_value(mesh, vertex, neighbor_index, alpha_beta)\n",
    "            c_matrix[vertex, neighbor_index] = c_value\n",
    "            sum_of_c_values = sum_of_c_values + c_value\n",
    "        c_matrix[vertex, vertex] = -1 * sum_of_c_values\n",
    "    return c_matrix    \n",
    "        "
   ]
  },
  {
   "cell_type": "code",
   "execution_count": 17,
   "metadata": {},
   "outputs": [],
   "source": [
    "def get_del_prime(M_diag, C):\n",
    "    inv_sqrt_M = np.diag(np.power(M_diag, -0.5))\n",
    "    del_prime = inv_sqrt_M @ C @ inv_sqrt_M\n",
    "    return del_prime"
   ]
  },
  {
   "cell_type": "code",
   "execution_count": 18,
   "metadata": {},
   "outputs": [],
   "source": [
    "def get_phi(M_diag, vecs):\n",
    "    inv_sqrt_M = np.diag(np.power(M_diag, -0.5))\n",
    "    phi = inv_sqrt_M @ vecs\n",
    "    return phi"
   ]
  },
  {
   "cell_type": "code",
   "execution_count": 19,
   "metadata": {},
   "outputs": [],
   "source": [
    "def get_spectral(channel, amount_of_eigen_vectors, phi_required, M):\n",
    "    '''\n",
    "    I am trying to do it in a matrix multiple kind of format, I first tile the channel\n",
    "    to give a multiple n x amount_of_eigen_vectors, then I multiply wiht M and phi and take\n",
    "    the diagonal to give me the dot products, then I use the diagonal to multiply the \n",
    "    amount_of phi I did, then sum them up. This would give me the spectral for one single\n",
    "    channel, then repeat\n",
    "    '''\n",
    "    tiled_channel =  np.tile(channel,(amount_of_eigen_vectors,1))\n",
    "    channel_dot_phi = np.diag(tiled_channel @ M @  phi_required) # remeber that you need to add M for the dot_product\n",
    "#     print(\"channel_dot_phi\",channel_dot_phi)\n",
    "    solution = np.sum(channel_dot_phi * phi_required, axis=1)\n",
    "#     print(\"solution\",solution)\n",
    "    return solution  "
   ]
  },
  {
   "cell_type": "code",
   "execution_count": 20,
   "metadata": {},
   "outputs": [],
   "source": [
    "def get_spectral_mesh_xyz(mesh, amount_of_eigen_vectors, phi, M):\n",
    "    phi_required = phi\n",
    "    #x channel\n",
    "    x_vertices = mesh.vertices[:,0]\n",
    "    spectral_x = get_spectral(x_vertices, amount_of_eigen_vectors, phi_required, M)\n",
    "    \n",
    "    #y channel\n",
    "    y_vertices = mesh.vertices[:,1]\n",
    "    spectral_y = get_spectral(y_vertices, amount_of_eigen_vectors, phi_required, M)\n",
    "    \n",
    "    #z channel\n",
    "    z_vertices = mesh.vertices[:,2]\n",
    "    spectral_z = get_spectral(z_vertices, amount_of_eigen_vectors, phi_required, M)\n",
    "    \n",
    "    spectral_vertices = np.stack((spectral_x, spectral_y, spectral_z), axis=-1).real #stack lists by first transposing then\n",
    "    return spectral_vertices"
   ]
  },
  {
   "cell_type": "code",
   "execution_count": 21,
   "metadata": {},
   "outputs": [],
   "source": [
    "def get_cotan_colour_coding_v1(mesh, cmap):\n",
    "    del_f = get_cotan_discretization(mesh)\n",
    "    H = get_mean_curvature(del_f, mesh)\n",
    "    colours_mean_curvature =  get_vertice_colours_from_list(H,cmap=cmap)\n",
    "    return colours_mean_curvature"
   ]
  },
  {
   "cell_type": "code",
   "execution_count": 22,
   "metadata": {},
   "outputs": [],
   "source": [
    "def show_mesh_with_curvature_colouring(mesh, curvature_colouring):\n",
    "    curvature_shading(mesh,curvature_colouring)\n",
    "    mesh_rd = pyrender.Mesh.from_trimesh(mesh)\n",
    "    run_gui([mesh_rd])"
   ]
  },
  {
   "cell_type": "code",
   "execution_count": 23,
   "metadata": {},
   "outputs": [],
   "source": [
    "def perform_spectral_analysis_and_display(mesh, eigen_vec_num):\n",
    "    \n",
    "    new_mesh = mesh.copy()\n",
    "    \n",
    "    M, M_diag = get_mass_matrix(new_mesh)\n",
    "    \n",
    "    C = get_c_matrix(new_mesh)\n",
    "    \n",
    "    del_prime = get_del_prime(M_diag, C)\n",
    "    \n",
    "    vals, vecs = eigsh(del_prime, k = eigen_vec_num, which='SM')\n",
    "    \n",
    "    phi = get_phi(M_diag, vecs)\n",
    "    \n",
    "    new_vert = get_spectral_mesh_xyz(new_mesh, eigen_vec_num, phi, M)\n",
    "    \n",
    "    new_mesh.vertices = new_vert\n",
    "    \n",
    "    curvature_colouring = get_cotan_colour_coding_v1(new_mesh, cm.hot)\n",
    "    \n",
    "    show_mesh_with_curvature_colouring(new_mesh, curvature_colouring)\n",
    "    "
   ]
  },
  {
   "cell_type": "code",
   "execution_count": 45,
   "metadata": {},
   "outputs": [
    {
     "name": "stdout",
     "output_type": "stream",
     "text": [
      "[[ 0.00534434  0.26816652 -0.29490737]\n",
      " [-0.00063773 -0.25728067  0.27295833]\n",
      " [ 0.18037076 -0.23164651  0.28039376]\n",
      " ...\n",
      " [ 0.10011411  0.18461725 -0.05037302]\n",
      " [ 0.12448339  0.01359212 -0.11644513]\n",
      " [ 0.24501503 -0.20423188 -0.15774391]]\n",
      "0.09719176088694612\n",
      "4.1370186377649505\n"
     ]
    }
   ],
   "source": [
    "eigen_vec_num = 30\n",
    "perform_spectral_analysis_and_display(M1, eigen_vec_num)"
   ]
  },
  {
   "cell_type": "markdown",
   "metadata": {},
   "source": [
    "# More helper functions"
   ]
  },
  {
   "cell_type": "code",
   "execution_count": 24,
   "metadata": {},
   "outputs": [],
   "source": [
    "def get_cotan_colour_coding(mesh, cmap):\n",
    "    L = get_cotan_laplace_beltrami(mesh)\n",
    "    del_x = L @ mesh.vertices\n",
    "    H = get_mean_curvature(del_x, mesh)\n",
    "    colours_mean_curvature =  get_vertice_colours_from_list(H,cmap=cmap)\n",
    "    return colours_mean_curvature"
   ]
  },
  {
   "cell_type": "code",
   "execution_count": 25,
   "metadata": {},
   "outputs": [],
   "source": [
    "def show_mesh_with_curvature_colouring(mesh, curvature_colouring):\n",
    "    curvature_shading(mesh,curvature_colouring)\n",
    "    mesh_rd = pyrender.Mesh.from_trimesh(mesh)\n",
    "    run_gui([mesh_rd])"
   ]
  },
  {
   "cell_type": "code",
   "execution_count": 26,
   "metadata": {},
   "outputs": [],
   "source": [
    "def get_single_vertex_neighbour_value(mesh, vertex, neighbor_index, alpha_beta, area):\n",
    "    l_value = 0\n",
    "    if alpha_beta[1] == 0:\n",
    "        l_value = cot(alpha_beta[0])/(2*area)\n",
    "    else:\n",
    "        l_value = (cot(alpha_beta[0]) + cot(alpha_beta[1]))/(2*area)\n",
    "        \n",
    "    if l_value == zoo:\n",
    "        l_value = 0\n",
    "    return l_value"
   ]
  },
  {
   "cell_type": "markdown",
   "metadata": {},
   "source": [
    "## Question 4"
   ]
  },
  {
   "cell_type": "code",
   "execution_count": 235,
   "metadata": {},
   "outputs": [],
   "source": [
    "m1_fp = os.path.join('bumpy-cube-small.obj')\n",
    "m2_fp = os.path.join(DEMO_PATH_SMOOTHING,'fandisk_ns.obj')\n",
    "m3_fp = os.path.join(DEMO_PATH_SMOOTHING,'plane_ns.obj')\n",
    "\n",
    "\n",
    "assert os.path.exists(m1_fp), 'cannot found:'+m1_fp \n",
    "assert os.path.exists(m2_fp), 'cannot found:'+m2_fp \n",
    "assert os.path.exists(m3_fp), 'cannot found:'+m3_fp \n",
    "\n",
    "M1 = trimesh.load(m1_fp) \n",
    "M2 = trimesh.load(m2_fp) \n",
    "M3 = trimesh.load(m3_fp)"
   ]
  },
  {
   "cell_type": "markdown",
   "metadata": {},
   "source": [
    "### Get L"
   ]
  },
  {
   "cell_type": "code",
   "execution_count": 27,
   "metadata": {},
   "outputs": [],
   "source": [
    "def get_cotan_laplace_beltrami(mesh):\n",
    "    vertice_number = len(mesh.vertices)\n",
    "    cotan_laplace_beltrami = np.zeros([vertice_number,vertice_number])\n",
    "    for vertex in range(vertice_number):\n",
    "        one_ring_neighbours = mesh.vertex_neighbors[vertex]\n",
    "        len_neighbors = len(one_ring_neighbours)\n",
    "        area = get_barycentric_area(mesh, vertex)\n",
    "        sum_of_l_values = 0\n",
    "        \n",
    "        for j in range(len_neighbors):\n",
    "            neighbor_index = one_ring_neighbours[j]\n",
    "            alpha_beta = get_alpha_beta(mesh,vertex,neighbor_index)\n",
    "            l_value = get_single_vertex_neighbour_value(mesh, vertex, neighbor_index, alpha_beta, area)\n",
    "            cotan_laplace_beltrami[vertex, neighbor_index] = l_value\n",
    "            sum_of_l_values = sum_of_l_values + l_value\n",
    "        cotan_laplace_beltrami[vertex, vertex] = -1 * sum_of_l_values\n",
    "    return cotan_laplace_beltrami"
   ]
  },
  {
   "cell_type": "code",
   "execution_count": 28,
   "metadata": {},
   "outputs": [],
   "source": [
    "def explicit_smoothening(mesh, lamda):\n",
    "    L = get_cotan_laplace_beltrami(mesh)\n",
    "    vertice_number = len(mesh.vertices)\n",
    "    I = np.eye(vertice_number)\n",
    "    mesh.vertices = (I + (lamda * L)) @ mesh.vertices\n",
    "    return mesh"
   ]
  },
  {
   "cell_type": "code",
   "execution_count": 29,
   "metadata": {},
   "outputs": [],
   "source": [
    "def get_explicit_smoothened_mesh(mesh, iterations, lamda):\n",
    "    new_mesh = mesh.copy() \n",
    "    for i in range(iterations):\n",
    "        new_mesh =  explicit_smoothening(new_mesh, lamda) \n",
    "    return new_mesh"
   ]
  },
  {
   "cell_type": "code",
   "execution_count": 192,
   "metadata": {},
   "outputs": [],
   "source": [
    "# M_explicit = get_explicit_smoothened_mesh(M3, 5, 2e-5)\n",
    "M_explicit = get_explicit_smoothened_mesh(M3, 5, 0.11e-5)"
   ]
  },
  {
   "cell_type": "code",
   "execution_count": 194,
   "metadata": {},
   "outputs": [
    {
     "name": "stdout",
     "output_type": "stream",
     "text": [
      "[[ 2.22521806e+00  2.56170484e+00 -2.20261094e+01]\n",
      " [ 1.78734957e+01  8.49635123e+00  5.99144452e+01]\n",
      " [ 1.15340877e+01  2.10376991e-02 -2.81992981e+01]\n",
      " ...\n",
      " [ 5.64906828e+00 -3.92405852e+00 -5.46095169e+01]\n",
      " [ 1.95390300e+00 -9.36424551e+00  1.14673064e+01]\n",
      " [-4.79235156e-01 -1.27486688e+00 -4.80561121e+00]]\n",
      "-12442.287924641823\n",
      "9538.97469506864\n"
     ]
    }
   ],
   "source": [
    "curvature_colouring_explicit = get_cotan_colour_coding(M_explicit, cm.hot)\n",
    "show_mesh_with_curvature_colouring(M_explicit, curvature_colouring_explicit)"
   ]
  },
  {
   "cell_type": "markdown",
   "metadata": {},
   "source": [
    "## Plot original mesh"
   ]
  },
  {
   "cell_type": "code",
   "execution_count": 196,
   "metadata": {},
   "outputs": [
    {
     "name": "stdout",
     "output_type": "stream",
     "text": [
      "[[   6.48541033  -12.46058976   43.41634921]\n",
      " [  19.05586979   15.44393508   42.90097859]\n",
      " [  73.16587933   -7.79302687 -118.58270858]\n",
      " ...\n",
      " [   2.03590854  -14.70275498  -82.42829955]\n",
      " [   9.85035263  -33.84011045   24.82050437]\n",
      " [  -2.50624782   26.15476368   13.34807241]]\n",
      "-392.2320444464382\n",
      "487.7417383878694\n"
     ]
    }
   ],
   "source": [
    "curvature_colouring_original_mesh = get_cotan_colour_coding(M3, cm.hot)\n",
    "show_mesh_with_curvature_colouring(M3, curvature_colouring_original_mesh)"
   ]
  },
  {
   "cell_type": "markdown",
   "metadata": {},
   "source": [
    "# Question 5"
   ]
  },
  {
   "cell_type": "code",
   "execution_count": 210,
   "metadata": {},
   "outputs": [],
   "source": [
    "m1_fp = os.path.join('bumpy-cube-small.obj')\n",
    "m2_fp = os.path.join(DEMO_PATH_SMOOTHING,'fandisk_ns.obj')\n",
    "m3_fp = os.path.join(DEMO_PATH_SMOOTHING,'plane_ns.obj')\n",
    "\n",
    "assert os.path.exists(m1_fp), 'cannot found:'+m1_fp \n",
    "assert os.path.exists(m2_fp), 'cannot found:'+m2_fp \n",
    "assert os.path.exists(m3_fp), 'cannot found:'+m3_fp \n",
    "\n",
    "M1 = trimesh.load(m1_fp) \n",
    "M2 = trimesh.load(m2_fp) \n",
    "M3 = trimesh.load(m3_fp)"
   ]
  },
  {
   "cell_type": "code",
   "execution_count": 59,
   "metadata": {},
   "outputs": [],
   "source": [
    "# L = get_cotan_laplace_beltrami(M5)"
   ]
  },
  {
   "cell_type": "code",
   "execution_count": 30,
   "metadata": {},
   "outputs": [],
   "source": [
    "def get_conjugate_gradient_solution(A,B):\n",
    "    X_k_new, info = cg(A, B)\n",
    "    return X_k_new"
   ]
  },
  {
   "cell_type": "code",
   "execution_count": 31,
   "metadata": {},
   "outputs": [],
   "source": [
    "def implicit_smoothening(mesh, L, lamda):\n",
    "    vertice_number = len(mesh.vertices)\n",
    "    X_k = mesh.vertices\n",
    "    M, _ = get_mass_matrix(mesh)\n",
    "    C = get_c_matrix(mesh)\n",
    "    A = (M - lamda*C)\n",
    "    B_x = (M @ X_k[:,0]) \n",
    "    B_y = (M @ X_k[:,1])\n",
    "    B_z = (M @ X_k[:,2])\n",
    "    \n",
    "    #conjugate gradient x\n",
    "    x_new = get_conjugate_gradient_solution(A, B_x).real\n",
    "#     print(\"x_new\",x_new)\n",
    "    \n",
    "    #conjugate gradient y\n",
    "    y_new = get_conjugate_gradient_solution(A, B_y).real\n",
    "#     print(\"y_new\",y_new)\n",
    "    \n",
    "    #conjugate gradient z\n",
    "    z_new = get_conjugate_gradient_solution(A, B_z).real\n",
    "#     print(\"z_new\",z_new)\n",
    "    \n",
    "    X_k_new = np.stack((x_new, y_new, z_new), axis=-1).real\n",
    "    \n",
    "    mesh.vertices = X_k_new\n",
    "    return mesh"
   ]
  },
  {
   "cell_type": "code",
   "execution_count": 32,
   "metadata": {},
   "outputs": [],
   "source": [
    "def get_implicit_smoothened_mesh(mesh, iterations, lamda):\n",
    "    new_mesh = mesh.copy() \n",
    "    for i in range(iterations):\n",
    "        L = get_cotan_laplace_beltrami(new_mesh)\n",
    "        new_mesh =  implicit_smoothening(new_mesh, L, lamda) \n",
    "    return new_mesh"
   ]
  },
  {
   "cell_type": "code",
   "execution_count": 268,
   "metadata": {},
   "outputs": [],
   "source": [
    "M_implicit = get_implicit_smoothened_mesh(M3, 5, 1e-4)"
   ]
  },
  {
   "cell_type": "code",
   "execution_count": 267,
   "metadata": {},
   "outputs": [
    {
     "name": "stdout",
     "output_type": "stream",
     "text": [
      "[[  0.50974918   0.57315276  -9.6287115 ]\n",
      " [  0.19191599   0.07378043  12.91602046]\n",
      " [ -0.76552732   0.75786642   6.21301688]\n",
      " ...\n",
      " [  1.10226567   0.6923687  -19.3184957 ]\n",
      " [ -0.64158275  -2.8850547   15.07264547]\n",
      " [  1.55435986   3.1589079   19.52663579]]\n",
      "-17627689.022302743\n",
      "910462578.9196613\n"
     ]
    }
   ],
   "source": [
    "curvature_colouring_implicit = get_cotan_colour_coding(M_implicit, cm.hot)\n",
    "show_mesh_with_curvature_colouring(M_implicit, curvature_colouring_implicit)"
   ]
  },
  {
   "cell_type": "code",
   "execution_count": 58,
   "metadata": {},
   "outputs": [],
   "source": [
    "del_6 = L6 @ M6.vertices"
   ]
  },
  {
   "cell_type": "code",
   "execution_count": 59,
   "metadata": {},
   "outputs": [
    {
     "name": "stdout",
     "output_type": "stream",
     "text": [
      "[[ 0.00534841  0.11181609 -0.24628414]\n",
      " [ 0.00258212 -0.11918383  0.23739873]\n",
      " [ 0.18966686 -0.244912    0.17651895]\n",
      " ...\n",
      " [ 0.02153171  0.06632356 -0.00653425]\n",
      " [ 0.21949826  0.00524996 -0.1171625 ]\n",
      " [ 0.16753963 -0.24166471 -0.18807257]]\n"
     ]
    }
   ],
   "source": [
    "H6 = get_mean_curvature(del_6, M6)"
   ]
  },
  {
   "cell_type": "code",
   "execution_count": 60,
   "metadata": {},
   "outputs": [
    {
     "name": "stdout",
     "output_type": "stream",
     "text": [
      "-0.09789967419816611\n",
      "2.0109883191327156\n"
     ]
    }
   ],
   "source": [
    "colours_mean_curvature_6 =  get_vertice_colours_from_list(H6,cm.jet)"
   ]
  },
  {
   "cell_type": "code",
   "execution_count": 61,
   "metadata": {},
   "outputs": [],
   "source": [
    "curvature_shading(M6,colours_mean_curvature_6)\n",
    "m6_mesh_rd = pyrender.Mesh.from_trimesh(M6)\n",
    "run_gui([m6_mesh_rd])"
   ]
  },
  {
   "cell_type": "markdown",
   "metadata": {},
   "source": [
    "# Question 6"
   ]
  },
  {
   "cell_type": "markdown",
   "metadata": {},
   "source": [
    "### Test laplacian mesh denoising"
   ]
  },
  {
   "cell_type": "markdown",
   "metadata": {},
   "source": [
    "### Load meshes"
   ]
  },
  {
   "cell_type": "code",
   "execution_count": 38,
   "metadata": {},
   "outputs": [],
   "source": [
    "m1_fp =  os.path.join(DEMO_PATH_CURVATURE,'plane.obj') \n",
    "m2_fp = os.path.join(DEMO_PATH_SMOOTHING,'fandisk_ns.obj')\n",
    "m3_fp = os.path.join('bumpy-cube-small.obj')\n",
    "\n",
    "assert os.path.exists(m1_fp), 'cannot found:'+m1_fp \n",
    "assert os.path.exists(m2_fp), 'cannot found:'+m2_fp \n",
    "assert os.path.exists(m3_fp), 'cannot found:'+m3_fp \n",
    "\n",
    "M1 = trimesh.load(m1_fp) \n",
    "M2 = trimesh.load(m2_fp) \n",
    "M3 = trimesh.load(m3_fp)"
   ]
  },
  {
   "cell_type": "markdown",
   "metadata": {},
   "source": [
    "## access mesh properties"
   ]
  },
  {
   "cell_type": "markdown",
   "metadata": {},
   "source": [
    "### add noise"
   ]
  },
  {
   "cell_type": "code",
   "execution_count": 33,
   "metadata": {},
   "outputs": [],
   "source": [
    "def addNoise(mesh, noise_level, K = 1000, noise_mean = 0):\n",
    "    '''\n",
    "    INPUT: mesh - mesh to be changed\n",
    "           noise_level - standard deviation of gaussian noise with \n",
    "           k - arbitary constant for scaling noise to length limith\n",
    "        noise_mean - mean of the noise\n",
    "    OUTPUT: mesh - mesh with noise\n",
    "    '''\n",
    "    new_mesh = mesh.copy()\n",
    "    bounding_box_dimensions = new_mesh.extents\n",
    "    noise = np.random.normal(noise_mean, noise_level, new_mesh.vertices.shape)\n",
    "    boundedNoise = noise * (bounding_box_dimensions/K)\n",
    "    new_mesh.vertices = new_mesh.vertices + boundedNoise\n",
    "    return new_mesh"
   ]
  },
  {
   "cell_type": "code",
   "execution_count": 34,
   "metadata": {},
   "outputs": [],
   "source": [
    "def get_implicit_smoothened_mesh(mesh, iterations, lamda):\n",
    "    new_mesh = mesh.copy() \n",
    "    for i in range(iterations):\n",
    "        L = get_cotan_laplace_beltrami(new_mesh)\n",
    "        new_mesh =  implicit_smoothening(new_mesh, L, lamda) \n",
    "    return new_mesh"
   ]
  },
  {
   "cell_type": "markdown",
   "metadata": {},
   "source": [
    "### Question 6 Solutiion"
   ]
  },
  {
   "cell_type": "markdown",
   "metadata": {},
   "source": [
    "##  low level noise"
   ]
  },
  {
   "cell_type": "code",
   "execution_count": 45,
   "metadata": {},
   "outputs": [],
   "source": [
    "noise_levels = [2]\n",
    "\n",
    "\n",
    "for index, noise_level in enumerate(noise_levels):\n",
    "#     print(noise_level)\n",
    "    \n",
    "    #add noise\n",
    "    noisy_M3 = addNoise(M3, noise_level)\n",
    "    \n",
    "#     #show noisy mesh\n",
    "#     curvature_colouring_noisy_M3 = get_cotan_colour_coding(noisy_M3, cm.hot)\n",
    "#     show_mesh_with_curvature_colouring(noisy_M3, curvature_colouring_noisy_M3)\n",
    "    \n",
    "    #remove noise\n",
    "    smoothened_noisy_M3 = get_implicit_smoothened_mesh(noisy_M3, 10, 1e-4)\n",
    "    \n",
    "    #show removed_noise_mesh\n",
    "    curvature_colouring_smoothened_noisy_M3 = get_cotan_colour_coding(noisy_M3, cm.hot)\n",
    "    show_mesh_with_curvature_colouring(smoothened_noisy_M3, curvature_colouring_smoothened_noisy_M3)"
   ]
  },
  {
   "cell_type": "markdown",
   "metadata": {},
   "source": [
    "## medium level amount of noise"
   ]
  },
  {
   "cell_type": "code",
   "execution_count": 42,
   "metadata": {},
   "outputs": [],
   "source": [
    "noise_levels = [10]\n",
    "\n",
    "for index, noise_level in enumerate(noise_levels):\n",
    "#     print(noise_level)\n",
    "    \n",
    "    #add noise\n",
    "    noisy_M3 = addNoise(M3, noise_level)\n",
    "    \n",
    "    #show noisy mesh\n",
    "    curvature_colouring_noisy_M3 = get_cotan_colour_coding(noisy_M3, cm.hot)\n",
    "    show_mesh_with_curvature_colouring(noisy_M3, curvature_colouring_noisy_M3)\n",
    "    \n",
    "    #remove noise\n",
    "    smoothened_noisy_M3 = get_implicit_smoothened_mesh(noisy_M3, 10, 5e-3)\n",
    "    \n",
    "    #show removed_noise_mesh\n",
    "    curvature_colouring_smoothened_noisy_M3 = get_cotan_colour_coding(noisy_M3, cm.hot)\n",
    "    show_mesh_with_curvature_colouring(smoothened_noisy_M3, curvature_colouring_smoothened_noisy_M3)"
   ]
  },
  {
   "cell_type": "markdown",
   "metadata": {},
   "source": [
    "## extreme amount of noise"
   ]
  },
  {
   "cell_type": "code",
   "execution_count": 43,
   "metadata": {},
   "outputs": [],
   "source": [
    "noise_levels = [40]\n",
    "\n",
    "for index, noise_level in enumerate(noise_levels):\n",
    "#     print(noise_level)\n",
    "    \n",
    "    #add noise\n",
    "    noisy_M3 = addNoise(M3, noise_level)\n",
    "    \n",
    "    #show noisy mesh\n",
    "    curvature_colouring_noisy_M3 = get_cotan_colour_coding(noisy_M3, cm.hot)\n",
    "    show_mesh_with_curvature_colouring(noisy_M3, curvature_colouring_noisy_M3)\n",
    "    \n",
    "    #remove noise\n",
    "    smoothened_noisy_M3 = get_implicit_smoothened_mesh(noisy_M3, 20, 1e-3)\n",
    "    \n",
    "    #show removed_noise_mesh\n",
    "    curvature_colouring_smoothened_noisy_M3 = get_cotan_colour_coding(noisy_M3, cm.hot)\n",
    "    show_mesh_with_curvature_colouring(smoothened_noisy_M3, curvature_colouring_smoothened_noisy_M3)"
   ]
  }
 ],
 "metadata": {
  "kernelspec": {
   "display_name": "Python 3",
   "language": "python",
   "name": "python3"
  },
  "language_info": {
   "codemirror_mode": {
    "name": "ipython",
    "version": 3
   },
   "file_extension": ".py",
   "mimetype": "text/x-python",
   "name": "python",
   "nbconvert_exporter": "python",
   "pygments_lexer": "ipython3",
   "version": "3.7.3"
  }
 },
 "nbformat": 4,
 "nbformat_minor": 4
}
